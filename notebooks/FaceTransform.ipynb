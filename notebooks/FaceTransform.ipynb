{
 "cells": [
  {
   "cell_type": "markdown",
   "metadata": {},
   "source": [
    "### Transform"
   ]
  },
  {
   "cell_type": "code",
   "execution_count": 9,
   "metadata": {},
   "outputs": [],
   "source": [
    "import cv2\n",
    "import numpy as np\n",
    "import matplotlib.pyplot as plt\n",
    "import torchvision.transforms as transforms\n",
    "%matplotlib inline  "
   ]
  },
  {
   "cell_type": "code",
   "execution_count": 10,
   "metadata": {},
   "outputs": [],
   "source": [
    "rotation_range = 10\n",
    "zoom_range = 0.05\n",
    "shift_range = 0.05"
   ]
  },
  {
   "cell_type": "code",
   "execution_count": 12,
   "metadata": {},
   "outputs": [],
   "source": [
    "image = cv2.imread(\"./img/cage.jpg\", cv2.COLOR_RGB2BGR).astype(np.float32)\n",
    "image = cv2.resize(image, (256, 256))"
   ]
  },
  {
   "cell_type": "code",
   "execution_count": 13,
   "metadata": {},
   "outputs": [],
   "source": [
    "h, w = image.shape[0:2]"
   ]
  },
  {
   "cell_type": "code",
   "execution_count": 14,
   "metadata": {},
   "outputs": [],
   "source": [
    "rotation = np.random.uniform(-rotation_range, rotation_range)\n",
    "scale = np.random.uniform(1 - zoom_range, 1 + zoom_range)\n",
    "tx = np.random.uniform(-shift_range, shift_range) * w\n",
    "ty = np.random.uniform(-shift_range, shift_range) * h"
   ]
  },
  {
   "cell_type": "code",
   "execution_count": 15,
   "metadata": {},
   "outputs": [],
   "source": [
    "mat = cv2.getRotationMatrix2D((w // 2, h // 2), rotation, scale)\n",
    "mat[:, 2] += (tx, ty)"
   ]
  },
  {
   "cell_type": "code",
   "execution_count": 16,
   "metadata": {},
   "outputs": [
    {
     "data": {
      "text/plain": [
       "array([[  1.00269863e+00,  -5.64824293e-03,  -6.03917026e+00],\n",
       "       [  5.64824293e-03,   1.00269863e+00,   5.47119381e+00]])"
      ]
     },
     "execution_count": 16,
     "metadata": {},
     "output_type": "execute_result"
    }
   ],
   "source": [
    "mat"
   ]
  },
  {
   "cell_type": "code",
   "execution_count": null,
   "metadata": {},
   "outputs": [],
   "source": [
    "result = cv2.warpAffine(image, mat, (w, h), borderMode=cv2.BORDER_REPLICATE)"
   ]
  },
  {
   "cell_type": "code",
   "execution_count": 70,
   "metadata": {},
   "outputs": [
    {
     "data": {
      "text/plain": [
       "True"
      ]
     },
     "execution_count": 70,
     "metadata": {},
     "output_type": "execute_result"
    }
   ],
   "source": [
    "#result = result.transpose((1, 2, 0))\n",
    "cv2.imwrite(\"./cage2.jpg\", result)"
   ]
  },
  {
   "cell_type": "markdown",
   "metadata": {},
   "source": [
    "### Warp"
   ]
  },
  {
   "cell_type": "code",
   "execution_count": 71,
   "metadata": {},
   "outputs": [],
   "source": [
    "coverage = 160\n",
    "scale = 5\n",
    "zoom = 1"
   ]
  },
  {
   "cell_type": "code",
   "execution_count": 75,
   "metadata": {},
   "outputs": [],
   "source": [
    "## License (Modified BSD)\n",
    "## Copyright (C) 2011, the scikit-image team All rights reserved.\n",
    "##\n",
    "## Redistribution and use in source and binary forms, with or without modification, are permitted provided that the following conditions are met:\n",
    "##\n",
    "## Redistributions of source code must retain the above copyright notice, this list of conditions and the following disclaimer.\n",
    "## Redistributions in binary form must reproduce the above copyright notice, this list of conditions and the following disclaimer in the documentation and/or other materials provided with the distribution.\n",
    "## Neither the name of skimage nor the names of its contributors may be used to endorse or promote products derived from this software without specific prior written permission.\n",
    "## THIS SOFTWARE IS PROVIDED BY THE AUTHOR ``AS IS'' AND ANY EXPRESS OR IMPLIED WARRANTIES, INCLUDING, BUT NOT LIMITED TO, THE IMPLIED WARRANTIES OF MERCHANTABILITY AND FITNESS FOR A PARTICULAR PURPOSE ARE DISCLAIMED. IN NO EVENT SHALL THE AUTHOR BE LIABLE FOR ANY DIRECT, INDIRECT, INCIDENTAL, SPECIAL, EXEMPLARY, OR CONSEQUENTIAL DAMAGES (INCLUDING, BUT NOT LIMITED TO, PROCUREMENT OF SUBSTITUTE GOODS OR SERVICES; LOSS OF USE, DATA, OR PROFITS; OR BUSINESS INTERRUPTION) HOWEVER CAUSED AND ON ANY THEORY OF LIABILITY, WHETHER IN CONTRACT, STRICT LIABILITY, OR TORT (INCLUDING NEGLIGENCE OR OTHERWISE) ARISING IN ANY WAY OUT OF THE USE OF THIS SOFTWARE, EVEN IF ADVISED OF THE POSSIBILITY OF SUCH DAMAGE.\n",
    "\n",
    "# umeyama function from scikit-image/skimage/transform/_geometric.py\n",
    "\n",
    "def umeyama(src, dst, estimate_scale):\n",
    "    \"\"\"Estimate N-D similarity transformation with or without scaling.\n",
    "    Parameters\n",
    "    ----------\n",
    "    src : (M, N) array\n",
    "        Source coordinates.\n",
    "    dst : (M, N) array\n",
    "        Destination coordinates.\n",
    "    estimate_scale : bool\n",
    "        Whether to estimate scaling factor.\n",
    "    Returns\n",
    "    -------\n",
    "    T : (N + 1, N + 1)\n",
    "        The homogeneous similarity transformation matrix. The matrix contains\n",
    "        NaN values only if the problem is not well-conditioned.\n",
    "    References\n",
    "    ----------\n",
    "    .. [1] \"Least-squares estimation of transformation parameters between two\n",
    "            point patterns\", Shinji Umeyama, PAMI 1991, DOI: 10.1109/34.88573\n",
    "    \"\"\"\n",
    "\n",
    "    num = src.shape[0]\n",
    "    dim = src.shape[1]\n",
    "\n",
    "    # Compute mean of src and dst.\n",
    "    src_mean = src.mean(axis=0)\n",
    "    dst_mean = dst.mean(axis=0)\n",
    "\n",
    "    # Subtract mean from src and dst.\n",
    "    src_demean = src - src_mean\n",
    "    dst_demean = dst - dst_mean\n",
    "\n",
    "    # Eq. (38).\n",
    "    A = np.dot(dst_demean.T, src_demean) / num\n",
    "\n",
    "    # Eq. (39).\n",
    "    d = np.ones((dim,), dtype=np.double)\n",
    "    if np.linalg.det(A) < 0:\n",
    "        d[dim - 1] = -1\n",
    "\n",
    "    T = np.eye(dim + 1, dtype=np.double)\n",
    "\n",
    "    U, S, V = np.linalg.svd(A)\n",
    "\n",
    "    # Eq. (40) and (43).\n",
    "    rank = np.linalg.matrix_rank(A)\n",
    "    if rank == 0:\n",
    "        return np.nan * T\n",
    "    elif rank == dim - 1:\n",
    "        if np.linalg.det(U) * np.linalg.det(V) > 0:\n",
    "            T[:dim, :dim] = np.dot(U, V)\n",
    "        else:\n",
    "            s = d[dim - 1]\n",
    "            d[dim - 1] = -1\n",
    "            T[:dim, :dim] = np.dot(U, np.dot(np.diag(d), V))\n",
    "            d[dim - 1] = s\n",
    "    else:\n",
    "        T[:dim, :dim] = np.dot(U, np.dot(np.diag(d), V.T))\n",
    "\n",
    "    if estimate_scale:\n",
    "        # Eq. (41) and (42).\n",
    "        scale = 1.0 / src_demean.var(axis=0).sum() * np.dot(S, d)\n",
    "    else:\n",
    "        scale = 1.0\n",
    "\n",
    "    T[:dim, dim] = dst_mean - scale * np.dot(T[:dim, :dim], src_mean.T)\n",
    "    T[:dim, :dim] *= scale\n",
    "\n",
    "    return T"
   ]
  },
  {
   "cell_type": "code",
   "execution_count": 76,
   "metadata": {},
   "outputs": [],
   "source": [
    "range_ = np.linspace(128 - coverage//2, 128 + coverage//2, 5)\n",
    "mapx = np.broadcast_to(range_, (5, 5))\n",
    "mapy = mapx.T\n",
    "\n",
    "mapx = mapx + np.random.normal(size=(5,5), scale=scale)\n",
    "mapy = mapy + np.random.normal(size=(5,5), scale=scale)\n",
    "\n",
    "interp_mapx = cv2.resize(mapx, (80*zoom,80*zoom))[8*zoom:72*zoom,8*zoom:72*zoom].astype('float32')\n",
    "interp_mapy = cv2.resize(mapy, (80*zoom,80*zoom))[8*zoom:72*zoom,8*zoom:72*zoom].astype('float32')\n",
    "\n",
    "warped_image = cv2.remap(image, interp_mapx, interp_mapy, cv2.INTER_LINEAR)\n",
    "\n",
    "src_points = np.stack([mapx.ravel(), mapy.ravel() ], axis=-1)\n",
    "dst_points = np.mgrid[0:65*zoom:16*zoom,0:65*zoom:16*zoom].T.reshape(-1,2)\n",
    "mat = umeyama(src_points, dst_points, True)[0:2]\n",
    "\n",
    "target_image = cv2.warpAffine(image, mat, (64*zoom,64*zoom))"
   ]
  },
  {
   "cell_type": "code",
   "execution_count": 77,
   "metadata": {},
   "outputs": [
    {
     "data": {
      "text/plain": [
       "True"
      ]
     },
     "execution_count": 77,
     "metadata": {},
     "output_type": "execute_result"
    }
   ],
   "source": [
    "cv2.imwrite(\"./cage3.jpg\", warped_image)"
   ]
  },
  {
   "cell_type": "markdown",
   "metadata": {},
   "source": [
    "## Hue, Saturation & Brightness"
   ]
  },
  {
   "cell_type": "code",
   "execution_count": 72,
   "metadata": {},
   "outputs": [
    {
     "data": {
      "text/plain": [
       "True"
      ]
     },
     "execution_count": 72,
     "metadata": {},
     "output_type": "execute_result"
    }
   ],
   "source": [
    "hsv = cv2.cvtColor(image, cv2.COLOR_BGR2HSV)\n",
    "h, s, v = cv2.split(hsv)\n",
    "h += np.random.uniform(-7, 7)\n",
    "hsv = cv2.merge((h, s, v))\n",
    "img = cv2.cvtColor(hsv, cv2.COLOR_HSV2BGR)\n",
    "#img = img[:, ::-1]\n",
    "cv2.imwrite(\"./cage6.jpg\", img)"
   ]
  },
  {
   "cell_type": "code",
   "execution_count": null,
   "metadata": {},
   "outputs": [],
   "source": [
    "if numpy.random.random() < random_flip:\n",
    "            result = result[:, ::-1]"
   ]
  }
 ],
 "metadata": {
  "kernelspec": {
   "display_name": "Python [conda root]",
   "language": "python",
   "name": "conda-root-py"
  },
  "language_info": {
   "codemirror_mode": {
    "name": "ipython",
    "version": 3
   },
   "file_extension": ".py",
   "mimetype": "text/x-python",
   "name": "python",
   "nbconvert_exporter": "python",
   "pygments_lexer": "ipython3",
   "version": "3.5.2"
  }
 },
 "nbformat": 4,
 "nbformat_minor": 2
}
