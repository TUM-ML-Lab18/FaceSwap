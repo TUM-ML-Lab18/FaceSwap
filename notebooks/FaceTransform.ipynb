{
 "cells": [
  {
   "cell_type": "code",
   "execution_count": 23,
   "metadata": {},
   "outputs": [],
   "source": [
    "import cv2\n",
    "import numpy as np\n",
    "import matplotlib.pyplot as plt\n",
    "%matplotlib inline  "
   ]
  },
  {
   "cell_type": "code",
   "execution_count": 65,
   "metadata": {},
   "outputs": [],
   "source": [
    "rotation_range = 10\n",
    "zoom_range = 0.05\n",
    "shift_range = 0.05"
   ]
  },
  {
   "cell_type": "code",
   "execution_count": 66,
   "metadata": {},
   "outputs": [],
   "source": [
    "image = cv2.imread(\"./cage.jpg\", cv2.COLOR_RGB2BGR).astype(np.float32)\n",
    "image = cv2.resize(image, (256, 256))"
   ]
  },
  {
   "cell_type": "code",
   "execution_count": 67,
   "metadata": {},
   "outputs": [],
   "source": [
    "h, w = image.shape[0:2]"
   ]
  },
  {
   "cell_type": "code",
   "execution_count": 68,
   "metadata": {},
   "outputs": [],
   "source": [
    "rotation = np.random.uniform(-rotation_range, rotation_range)\n",
    "scale = np.random.uniform(1 - zoom_range, 1 + zoom_range)\n",
    "tx = np.random.uniform(-shift_range, shift_range) * w\n",
    "ty = np.random.uniform(-shift_range, shift_range) * h"
   ]
  },
  {
   "cell_type": "code",
   "execution_count": 69,
   "metadata": {},
   "outputs": [],
   "source": [
    "mat = cv2.getRotationMatrix2D((w // 2, h // 2), rotation, scale)\n",
    "mat[:, 2] += (tx, ty)\n",
    "result = cv2.warpAffine(image, mat, (w, h), borderMode=cv2.BORDER_REPLICATE)"
   ]
  },
  {
   "cell_type": "code",
   "execution_count": 70,
   "metadata": {},
   "outputs": [
    {
     "data": {
      "text/plain": [
       "True"
      ]
     },
     "execution_count": 70,
     "metadata": {},
     "output_type": "execute_result"
    }
   ],
   "source": [
    "#result = result.transpose((1, 2, 0))\n",
    "cv2.imwrite(\"./cage2.jpg\", result)"
   ]
  },
  {
   "cell_type": "code",
   "execution_count": null,
   "metadata": {},
   "outputs": [],
   "source": []
  }
 ],
 "metadata": {
  "kernelspec": {
   "display_name": "Python [conda root]",
   "language": "python",
   "name": "conda-root-py"
  },
  "language_info": {
   "codemirror_mode": {
    "name": "ipython",
    "version": 3
   },
   "file_extension": ".py",
   "mimetype": "text/x-python",
   "name": "python",
   "nbconvert_exporter": "python",
   "pygments_lexer": "ipython3",
   "version": "3.5.2"
  }
 },
 "nbformat": 4,
 "nbformat_minor": 2
}
